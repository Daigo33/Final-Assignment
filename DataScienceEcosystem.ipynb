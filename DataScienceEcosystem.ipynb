{
 "cells": [
  {
   "cell_type": "markdown",
   "id": "9877b968",
   "metadata": {},
   "source": [
    "# Data Science Tools and Ecosystem"
   ]
  },
  {
   "cell_type": "markdown",
   "id": "7d0f31b4",
   "metadata": {},
   "source": [
    "## Daigo Kasai"
   ]
  },
  {
   "cell_type": "markdown",
   "id": "17daf9f2",
   "metadata": {},
   "source": [
    "In this notebook, Data Scicence Tools and Ecosystem are summarized"
   ]
  },
  {
   "cell_type": "markdown",
   "id": "248dbc4e",
   "metadata": {},
   "source": [
    "**objectievs:**\n",
    "- Python\n",
    "- R\n",
    "- SQL\n",
    "- Julia\n",
    "- Java"
   ]
  },
  {
   "cell_type": "markdown",
   "id": "ec876225",
   "metadata": {},
   "source": [
    "Some of the popular languages that Data Scietists use are:\n",
    "1. python\n",
    "2. C++\n",
    "3. Julia"
   ]
  },
  {
   "cell_type": "markdown",
   "id": "86274dbc",
   "metadata": {},
   "source": [
    "Some of the commonly used libraries used by Data Scientists include:\n",
    "- Keras\n",
    "- Pandas\n",
    "- PyTorch\n",
    "- Scikit-learn\n",
    "- NumPy"
   ]
  },
  {
   "cell_type": "markdown",
   "id": "04e66d71",
   "metadata": {},
   "source": [
    "Data Science Tools\n",
    "|Type|Name of Tools|Availavirity|\n",
    "|:----|:------------|:----|\n",
    "|Programming Language-driven Tools|python|open source|\n",
    "|Programming Language-driven Tools|R Programming|open source|\n",
    "|Programming Language-driven Tools|Jupiter notebook|open source|\n"
   ]
  },
  {
   "cell_type": "markdown",
   "id": "593e05d0",
   "metadata": {},
   "source": [
    "### Below are a few examples of evaluating arithmetic expressions in Python"
   ]
  },
  {
   "cell_type": "code",
   "execution_count": 4,
   "id": "2520f239",
   "metadata": {},
   "outputs": [
    {
     "data": {
      "text/plain": [
       "12"
      ]
     },
     "execution_count": 4,
     "metadata": {},
     "output_type": "execute_result"
    }
   ],
   "source": [
    "# This is simple arithmetic expression to multiply then add integers\n",
    "(3+4) + 5"
   ]
  },
  {
   "cell_type": "code",
   "execution_count": 5,
   "id": "3a651322",
   "metadata": {},
   "outputs": [
    {
     "data": {
      "text/plain": [
       "3.3333333333333335"
      ]
     },
     "execution_count": 5,
     "metadata": {},
     "output_type": "execute_result"
    }
   ],
   "source": [
    "# This will convert 200 minutes to hours by dividin by 60\n",
    "200/60 \n"
   ]
  },
  {
   "cell_type": "code",
   "execution_count": null,
   "id": "83c3e312",
   "metadata": {},
   "outputs": [],
   "source": []
  }
 ],
 "metadata": {
  "kernelspec": {
   "display_name": "Python 3 (ipykernel)",
   "language": "python",
   "name": "python3"
  },
  "language_info": {
   "codemirror_mode": {
    "name": "ipython",
    "version": 3
   },
   "file_extension": ".py",
   "mimetype": "text/x-python",
   "name": "python",
   "nbconvert_exporter": "python",
   "pygments_lexer": "ipython3",
   "version": "3.11.5"
  }
 },
 "nbformat": 4,
 "nbformat_minor": 5
}
